{
 "cells": [
  {
   "cell_type": "markdown",
   "id": "f1de3c86",
   "metadata": {},
   "source": [
    "LIBRARY"
   ]
  },
  {
   "cell_type": "code",
   "execution_count": null,
   "id": "bf80a6d3",
   "metadata": {
    "scrolled": false
   },
   "outputs": [],
   "source": [
    "import pandas as pd\n",
    "import numpy as np\n",
    "import matplotlib.pyplot as plt\n",
    "from pandas_profiling import ProfileReport\n",
    "import seaborn as sns"
   ]
  },
  {
   "cell_type": "markdown",
   "id": "f635d8de",
   "metadata": {},
   "source": [
    "Link to data source: \"C:/Users/anuno/Downloads/archive (1) - Copy/supermarket_sales - Sheet1.csv\"\n",
    "Link to data source(kaggle): https://www.kaggle.com/aungpyaeap/supermarket-sales\n",
    "**Context**\n",
    "\n",
    "The growth of supermarkets in most populated cities are increasing and market competitions are also high. The dataset is one of the historical sales of supermarket company which has recorded in 3 different branches for 3 months data.\n",
    "\n",
    "**Data Dictionary**\n",
    "\n",
    "1. ***Invoice id:*** Computer generated sales slip invoice identification number\n",
    "\n",
    "2. ***Branch:*** Branch of supercenter (3 branches are available identified by A, B and C).\n",
    "\n",
    "3. ***City:*** Location of supercenters\n",
    "\n",
    "4. ***Customer type:*** Type of customers, recorded by Members for customers using member card and Normal for without member card.\n",
    "\n",
    "5. ***Gender:*** Gender type of customer\n",
    "\n",
    "6. ***Product line:*** General item categorization groups - Electronic accessories, Fashion accessories, Food and beverages, Health and beauty, Home and lifestyle, Sports and travel\n",
    "\n",
    "7. ***Unit price:*** Price of each product in USD\n",
    "\n",
    "8. ***Quantity:*** Number of products purchased by customer\n",
    "\n",
    "9. ***Tax:*** 5% tax fee for customer buying\n",
    "\n",
    "10. ***Total:*** Total price including tax\n",
    "\n",
    "11. ***Date:*** Date of purchase (Record available from January 2019 to March 2019)\n",
    "\n",
    "12. ***Time:*** Purchase time (10am to 9pm)\n",
    "\n",
    "13. ***Payment:*** Payment used by customer for purchase (3 methods are available – Cash, Credit card and Ewallet)\n",
    "\n",
    "14. ***COGS:*** Cost of goods sold\n",
    "\n",
    "15. ***Gross margin percentage:*** Gross margin percentage\n",
    "\n",
    "16. ***Gross income:*** Gross income\n",
    "\n",
    "17. ***Rating:*** Customer stratification rating on their overall shopping experience (On a scale of 1 to 10)"
   ]
  },
  {
   "cell_type": "markdown",
   "id": "59b74d62",
   "metadata": {},
   "source": [
    "### Task 1: Initial Data Exploration"
   ]
  },
  {
   "cell_type": "code",
   "execution_count": null,
   "id": "01073332",
   "metadata": {},
   "outputs": [],
   "source": [
    "df_super =pd.read_csv(\"C:/Users/anuno/Downloads/archive (1) - Copy/supermarket_sales - Sheet1.csv\")"
   ]
  },
  {
   "cell_type": "code",
   "execution_count": null,
   "id": "73c73481",
   "metadata": {},
   "outputs": [],
   "source": [
    "df_super.head()"
   ]
  },
  {
   "cell_type": "code",
   "execution_count": null,
   "id": "f3f65b36",
   "metadata": {},
   "outputs": [],
   "source": [
    "df_super.tail(10)"
   ]
  },
  {
   "cell_type": "code",
   "execution_count": null,
   "id": "8919c400",
   "metadata": {},
   "outputs": [],
   "source": [
    "df_super.columns"
   ]
  },
  {
   "cell_type": "code",
   "execution_count": null,
   "id": "01f17aa9",
   "metadata": {},
   "outputs": [],
   "source": [
    "df_super.dtypes"
   ]
  },
  {
   "cell_type": "code",
   "execution_count": null,
   "id": "0244c8b4",
   "metadata": {},
   "outputs": [],
   "source": [
    "df_super['Date']"
   ]
  },
  {
   "cell_type": "code",
   "execution_count": null,
   "id": "b50626fe",
   "metadata": {},
   "outputs": [],
   "source": [
    "df_super['Dates'] =pd.to_datetime(df_super['Date'])"
   ]
  },
  {
   "cell_type": "code",
   "execution_count": null,
   "id": "881e53dd",
   "metadata": {},
   "outputs": [],
   "source": [
    "df_super.set_index('Date',inplace=True)"
   ]
  },
  {
   "cell_type": "code",
   "execution_count": null,
   "id": "f84d8e05",
   "metadata": {},
   "outputs": [],
   "source": [
    "df_super.describe()"
   ]
  },
  {
   "cell_type": "markdown",
   "id": "faa5713f",
   "metadata": {},
   "source": [
    "TASK 2: UNIVARIATE ANALYSIS"
   ]
  },
  {
   "cell_type": "markdown",
   "id": "4fe0352d",
   "metadata": {},
   "source": [
    "Question 1: what does the distribution of customer ratings look like? is it skewed"
   ]
  },
  {
   "cell_type": "code",
   "execution_count": null,
   "id": "fdd0abe0",
   "metadata": {},
   "outputs": [],
   "source": [
    "import seaborn as sns"
   ]
  },
  {
   "cell_type": "code",
   "execution_count": null,
   "id": "5875aeb6",
   "metadata": {},
   "outputs": [],
   "source": [
    "sns.distplot(df_super['Rating'])\n",
    "plt.axvline(x=np.mean(df_super['Rating']),c='black',ls='--',label='mean')\n",
    "plt.axvline(x=np.percentile(df_super['Rating'],25),c='pink',ls='--',label='25-75th percentile')\n",
    "plt.axvline(x=np.percentile(df_super['Rating'],75),c='orange',ls='--')\n",
    "plt.legend()"
   ]
  },
  {
   "cell_type": "code",
   "execution_count": null,
   "id": "5c792c85",
   "metadata": {},
   "outputs": [],
   "source": [
    "df_super.hist(figsize=(10,10))"
   ]
  },
  {
   "cell_type": "markdown",
   "id": "6557c641",
   "metadata": {},
   "source": [
    "Question 2: Do aggregate sales numbers differ by much between branches"
   ]
  },
  {
   "cell_type": "code",
   "execution_count": null,
   "id": "30c317d5",
   "metadata": {},
   "outputs": [],
   "source": [
    "sns.countplot(df_super['Branch'])"
   ]
  },
  {
   "cell_type": "code",
   "execution_count": null,
   "id": "5e51a3c3",
   "metadata": {},
   "outputs": [],
   "source": [
    "df_super['Branch'].value_counts()"
   ]
  },
  {
   "cell_type": "code",
   "execution_count": null,
   "id": "dc5e7c9e",
   "metadata": {
    "scrolled": true
   },
   "outputs": [],
   "source": [
    "sns.countplot(df_super['Payment'])"
   ]
  },
  {
   "cell_type": "markdown",
   "id": "24ef80c5",
   "metadata": {},
   "source": [
    "TASK 3: BIVARIATE ANALYSIS"
   ]
  },
  {
   "cell_type": "markdown",
   "id": "05c9fc5f",
   "metadata": {},
   "source": [
    "Question 3: is there any relationship between customer ratings and gross income"
   ]
  },
  {
   "cell_type": "code",
   "execution_count": null,
   "id": "28550ffe",
   "metadata": {},
   "outputs": [],
   "source": [
    "sns.scatterplot(df_super['Rating'],df_super['gross income'])"
   ]
  },
  {
   "cell_type": "code",
   "execution_count": null,
   "id": "52af487b",
   "metadata": {},
   "outputs": [],
   "source": [
    "sns.boxplot(x=df_super['Branch'],y=df_super['gross income'])"
   ]
  },
  {
   "cell_type": "code",
   "execution_count": null,
   "id": "182d16c2",
   "metadata": {},
   "outputs": [],
   "source": [
    "sns.regplot(df_super['Rating'],df_super['gross income'])"
   ]
  },
  {
   "cell_type": "markdown",
   "id": "69190794",
   "metadata": {},
   "source": [
    "QUESTION 4 : is there a noticeable time trend in gross income?"
   ]
  },
  {
   "cell_type": "code",
   "execution_count": null,
   "id": "2fd94bc4",
   "metadata": {},
   "outputs": [],
   "source": [
    "df_super.head()"
   ]
  },
  {
   "cell_type": "code",
   "execution_count": null,
   "id": "2d8e00e2",
   "metadata": {},
   "outputs": [],
   "source": [
    "df_super.groupby(df_super.index).mean()"
   ]
  },
  {
   "cell_type": "code",
   "execution_count": null,
   "id": "cd7ec3a1",
   "metadata": {},
   "outputs": [],
   "source": [
    "df_super.groupby(df_super.index).mean().index"
   ]
  },
  {
   "cell_type": "code",
   "execution_count": null,
   "id": "f0b33d85",
   "metadata": {},
   "outputs": [],
   "source": [
    "sns.lineplot(x=df_super.groupby(df_super.index).mean().index,\n",
    "            y=df_super.groupby(df_super.index).mean()['gross income'])"
   ]
  },
  {
   "cell_type": "code",
   "execution_count": null,
   "id": "dc40dd7f",
   "metadata": {},
   "outputs": [],
   "source": [
    "sns.pairplot(df_super)"
   ]
  },
  {
   "cell_type": "markdown",
   "id": "af9e3eae",
   "metadata": {},
   "source": [
    "TASK 4: Dealing with Duplicate Rows and Missing Values"
   ]
  },
  {
   "cell_type": "code",
   "execution_count": null,
   "id": "57e38469",
   "metadata": {},
   "outputs": [],
   "source": [
    "df_super.duplicated()"
   ]
  },
  {
   "cell_type": "code",
   "execution_count": null,
   "id": "5d1f4f23",
   "metadata": {},
   "outputs": [],
   "source": [
    "df_super.duplicated().sum()"
   ]
  },
  {
   "cell_type": "code",
   "execution_count": null,
   "id": "0cdcd6e2",
   "metadata": {},
   "outputs": [],
   "source": [
    "df_super[df_super.duplicated()==True]"
   ]
  },
  {
   "cell_type": "code",
   "execution_count": null,
   "id": "a38eab19",
   "metadata": {},
   "outputs": [],
   "source": [
    "df_super.drop_duplicates(inplace=True)"
   ]
  },
  {
   "cell_type": "code",
   "execution_count": null,
   "id": "d02fc490",
   "metadata": {},
   "outputs": [],
   "source": [
    "df_super.isna().sum()"
   ]
  },
  {
   "cell_type": "code",
   "execution_count": null,
   "id": "6fae1ad3",
   "metadata": {},
   "outputs": [],
   "source": [
    "df_super.isna().sum()/len(df_super)"
   ]
  },
  {
   "cell_type": "code",
   "execution_count": null,
   "id": "a914d436",
   "metadata": {},
   "outputs": [],
   "source": [
    "sns.heatmap(df_super.isnull(),cbar=False)"
   ]
  },
  {
   "cell_type": "code",
   "execution_count": null,
   "id": "e1b20581",
   "metadata": {},
   "outputs": [],
   "source": [
    "df_super.fillna(df_super.mean(),inplace=True)"
   ]
  },
  {
   "cell_type": "code",
   "execution_count": null,
   "id": "2923f381",
   "metadata": {},
   "outputs": [],
   "source": [
    "df_super.mode()"
   ]
  },
  {
   "cell_type": "code",
   "execution_count": null,
   "id": "bd16b36f",
   "metadata": {},
   "outputs": [],
   "source": [
    "df_super.fillna(df_super.mode().iloc[0],inplace=True)"
   ]
  },
  {
   "cell_type": "code",
   "execution_count": null,
   "id": "3ea30914",
   "metadata": {
    "scrolled": false
   },
   "outputs": [],
   "source": [
    "df_super.mode().iloc[0]"
   ]
  },
  {
   "cell_type": "code",
   "execution_count": null,
   "id": "bc299146",
   "metadata": {},
   "outputs": [],
   "source": []
  },
  {
   "cell_type": "code",
   "execution_count": null,
   "id": "96692580",
   "metadata": {},
   "outputs": [],
   "source": [
    "import pandas as pd\n",
    "from pandas_profiling import ProfileReport"
   ]
  },
  {
   "cell_type": "code",
   "execution_count": null,
   "id": "0d15c8ca",
   "metadata": {},
   "outputs": [],
   "source": [
    "dataset=pd.read_csv((\"C:/Users/anuno/Downloads/archive (1) - Copy/supermarket_sales - Sheet1.csv\"))\n",
    "prof = ProfileReport(dataset)\n",
    "prof"
   ]
  },
  {
   "cell_type": "markdown",
   "id": "98370631",
   "metadata": {},
   "source": [
    "TASK 5: Correlation Analysis"
   ]
  },
  {
   "cell_type": "code",
   "execution_count": null,
   "id": "36981fc3",
   "metadata": {},
   "outputs": [],
   "source": [
    "round(np.corrcoef(df_super['gross income'],df_super['Rating'])[1][0],2)"
   ]
  },
  {
   "cell_type": "code",
   "execution_count": null,
   "id": "a26880fe",
   "metadata": {},
   "outputs": [],
   "source": [
    "np.round(df_super.corr(),2)"
   ]
  },
  {
   "cell_type": "code",
   "execution_count": null,
   "id": "09d2613a",
   "metadata": {},
   "outputs": [],
   "source": []
  }
 ],
 "metadata": {
  "kernelspec": {
   "display_name": "Python 3 (ipykernel)",
   "language": "python",
   "name": "python3"
  },
  "language_info": {
   "codemirror_mode": {
    "name": "ipython",
    "version": 3
   },
   "file_extension": ".py",
   "mimetype": "text/x-python",
   "name": "python",
   "nbconvert_exporter": "python",
   "pygments_lexer": "ipython3",
   "version": "3.9.13"
  }
 },
 "nbformat": 4,
 "nbformat_minor": 5
}
